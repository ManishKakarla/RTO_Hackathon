{
 "cells": [
  {
   "cell_type": "code",
   "execution_count": 27,
   "metadata": {
    "id": "lO8tFwPSvLyR"
   },
   "outputs": [],
   "source": [
    "import pandas as pd\n",
    "from math import sin, cos, sqrt, atan2\n",
    "import tensorflow as tf"
   ]
  },
  {
   "cell_type": "code",
   "execution_count": null,
   "metadata": {},
   "outputs": [],
   "source": [
    "\n"
   ]
  },
  {
   "cell_type": "code",
   "execution_count": 23,
   "metadata": {
    "id": "f3wgD6uqwPSq"
   },
   "outputs": [],
   "source": [
    "# import pandas lib as pd\n",
    "import pandas as pd\n",
    "\n",
    "# read by default 1st sheet of an excel file\n",
    "dataframe1 = pd.read_excel('C:/Users/manis/Downloads/RTO_Hackathon/src/data/ampa_wmt_rto_hackathon_july-22_data.xlsx')\n",
    "\n",
    "df=pd.read_excel('C:/Users/manis/Downloads/RTO_Hackathon/src/data/ampa_wmt_rto_hackathon_july-22_data.xlsx')\n"
   ]
  },
  {
   "cell_type": "code",
   "execution_count": 5,
   "metadata": {
    "colab": {
     "base_uri": "https://localhost:8080/"
    },
    "id": "KK_hTYLb4Ogu",
    "outputId": "5e3348c2-4c25-4eb8-d3af-d197d9f06dac"
   },
   "outputs": [
    {
     "name": "stdout",
     "output_type": "stream",
     "text": [
      "total number of features 230800\n"
     ]
    }
   ],
   "source": [
    "print(f\"total number of features {dataframe1.size}\")"
   ]
  },
  {
   "cell_type": "code",
   "execution_count": 6,
   "metadata": {
    "colab": {
     "base_uri": "https://localhost:8080/",
     "height": 444
    },
    "id": "4Xs7GBRFwESF",
    "outputId": "d7d413f8-4ea0-4d43-ac2f-446873d8f124"
   },
   "outputs": [
    {
     "data": {
      "text/html": [
       "<div>\n",
       "<style scoped>\n",
       "    .dataframe tbody tr th:only-of-type {\n",
       "        vertical-align: middle;\n",
       "    }\n",
       "\n",
       "    .dataframe tbody tr th {\n",
       "        vertical-align: top;\n",
       "    }\n",
       "\n",
       "    .dataframe thead th {\n",
       "        text-align: right;\n",
       "    }\n",
       "</style>\n",
       "<table border=\"1\" class=\"dataframe\">\n",
       "  <thead>\n",
       "    <tr style=\"text-align: right;\">\n",
       "      <th></th>\n",
       "      <th>shelter_id</th>\n",
       "      <th>intake_date</th>\n",
       "      <th>Species</th>\n",
       "      <th>found_lng</th>\n",
       "      <th>found_lat</th>\n",
       "      <th>outcome_lng</th>\n",
       "      <th>outcome_lat</th>\n",
       "      <th>distance_miles</th>\n",
       "      <th>found_address</th>\n",
       "      <th>outcome_address</th>\n",
       "    </tr>\n",
       "  </thead>\n",
       "  <tbody>\n",
       "    <tr>\n",
       "      <th>0</th>\n",
       "      <td>Rochester</td>\n",
       "      <td>2021-01-28</td>\n",
       "      <td>Dog</td>\n",
       "      <td>-77.633991</td>\n",
       "      <td>43.177237</td>\n",
       "      <td>-77.634618</td>\n",
       "      <td>43.178387</td>\n",
       "      <td>0.085445</td>\n",
       "      <td>158 Glenwood ave Rochester 14613</td>\n",
       "      <td>54 Tacoma Street Rochester NY 14613</td>\n",
       "    </tr>\n",
       "    <tr>\n",
       "      <th>1</th>\n",
       "      <td>Rochester</td>\n",
       "      <td>2021-01-30</td>\n",
       "      <td>Dog</td>\n",
       "      <td>-77.599173</td>\n",
       "      <td>43.185495</td>\n",
       "      <td>-77.583367</td>\n",
       "      <td>43.171650</td>\n",
       "      <td>1.245466</td>\n",
       "      <td>1094 HUDSON AVE 14621 Rochester 14621</td>\n",
       "      <td>31 CROMBIE ST Rochester NY 14605</td>\n",
       "    </tr>\n",
       "    <tr>\n",
       "      <th>2</th>\n",
       "      <td>Rochester</td>\n",
       "      <td>2021-01-30</td>\n",
       "      <td>Dog</td>\n",
       "      <td>-77.617074</td>\n",
       "      <td>43.241926</td>\n",
       "      <td>-77.615373</td>\n",
       "      <td>43.249483</td>\n",
       "      <td>0.528722</td>\n",
       "      <td>17 Hughes pl Rochester 14608</td>\n",
       "      <td>4313 LAKE AVE Rochester NY 14612</td>\n",
       "    </tr>\n",
       "    <tr>\n",
       "      <th>3</th>\n",
       "      <td>Rochester</td>\n",
       "      <td>2021-02-01</td>\n",
       "      <td>Dog</td>\n",
       "      <td>-77.643231</td>\n",
       "      <td>43.180933</td>\n",
       "      <td>-77.645970</td>\n",
       "      <td>43.179665</td>\n",
       "      <td>0.163735</td>\n",
       "      <td>DRIVING PK and  2 CANARY ST. Rochester 14608</td>\n",
       "      <td>1 CANARY ST Rochester NY 14613</td>\n",
       "    </tr>\n",
       "    <tr>\n",
       "      <th>4</th>\n",
       "      <td>Rochester</td>\n",
       "      <td>2021-02-03</td>\n",
       "      <td>Dog</td>\n",
       "      <td>-77.650684</td>\n",
       "      <td>43.143780</td>\n",
       "      <td>-77.653187</td>\n",
       "      <td>43.145435</td>\n",
       "      <td>0.170467</td>\n",
       "      <td>74 Thurston Rd Rochester 14608</td>\n",
       "      <td>216 DEPEW Street Rochester NY 14611</td>\n",
       "    </tr>\n",
       "  </tbody>\n",
       "</table>\n",
       "</div>"
      ],
      "text/plain": [
       "  shelter_id intake_date Species  found_lng  found_lat  outcome_lng  \\\n",
       "0  Rochester  2021-01-28     Dog -77.633991  43.177237   -77.634618   \n",
       "1  Rochester  2021-01-30     Dog -77.599173  43.185495   -77.583367   \n",
       "2  Rochester  2021-01-30     Dog -77.617074  43.241926   -77.615373   \n",
       "3  Rochester  2021-02-01     Dog -77.643231  43.180933   -77.645970   \n",
       "4  Rochester  2021-02-03     Dog -77.650684  43.143780   -77.653187   \n",
       "\n",
       "   outcome_lat  distance_miles                                 found_address  \\\n",
       "0    43.178387        0.085445              158 Glenwood ave Rochester 14613   \n",
       "1    43.171650        1.245466         1094 HUDSON AVE 14621 Rochester 14621   \n",
       "2    43.249483        0.528722                  17 Hughes pl Rochester 14608   \n",
       "3    43.179665        0.163735  DRIVING PK and  2 CANARY ST. Rochester 14608   \n",
       "4    43.145435        0.170467                74 Thurston Rd Rochester 14608   \n",
       "\n",
       "                       outcome_address  \n",
       "0  54 Tacoma Street Rochester NY 14613  \n",
       "1     31 CROMBIE ST Rochester NY 14605  \n",
       "2     4313 LAKE AVE Rochester NY 14612  \n",
       "3       1 CANARY ST Rochester NY 14613  \n",
       "4  216 DEPEW Street Rochester NY 14611  "
      ]
     },
     "execution_count": 6,
     "metadata": {},
     "output_type": "execute_result"
    }
   ],
   "source": [
    "dataframe1.head()"
   ]
  },
  {
   "cell_type": "code",
   "execution_count": 14,
   "metadata": {},
   "outputs": [
    {
     "data": {
      "text/plain": [
       "Index(['shelter_id', 'intake_date', 'Species', 'found_lng', 'found_lat',\n",
       "       'outcome_lng', 'outcome_lat', 'distance_miles', 'found_address',\n",
       "       'outcome_address'],\n",
       "      dtype='object')"
      ]
     },
     "execution_count": 14,
     "metadata": {},
     "output_type": "execute_result"
    }
   ],
   "source": [
    "df.columns"
   ]
  },
  {
   "cell_type": "code",
   "execution_count": 7,
   "metadata": {
    "colab": {
     "base_uri": "https://localhost:8080/"
    },
    "id": "1Og5Etc2wrGF",
    "outputId": "f5e92d63-1af4-4636-b1e1-ef1d0cea737c"
   },
   "outputs": [
    {
     "data": {
      "text/plain": [
       "8344"
      ]
     },
     "execution_count": 7,
     "metadata": {},
     "output_type": "execute_result"
    }
   ],
   "source": [
    "df['Species'].value_counts()['Dog']"
   ]
  },
  {
   "cell_type": "code",
   "execution_count": 8,
   "metadata": {
    "colab": {
     "base_uri": "https://localhost:8080/"
    },
    "id": "EHhJhh8Zw0L5",
    "outputId": "2d081ac9-fd99-4eab-839b-3e591f9193eb"
   },
   "outputs": [
    {
     "name": "stdout",
     "output_type": "stream",
     "text": [
      "Different types of pets\n",
      "Dog\n",
      "Cat\n",
      "Pet Reptile\n",
      "Pig\n",
      "Horse\n",
      "Rabbit\n",
      "DOG\n",
      "nan\n",
      "Other\n"
     ]
    }
   ],
   "source": [
    "print(\"Different types of pets\")\n",
    "pet_types=[]\n",
    "for i in df['Species'].unique():\n",
    "  print(i)\n",
    "  pet_types.append(i)\n"
   ]
  },
  {
   "cell_type": "code",
   "execution_count": 9,
   "metadata": {
    "id": "wYbetLWSxQj_"
   },
   "outputs": [],
   "source": [
    "# combining dog and DOG\n",
    "df['Species'] = df['Species'].replace(['DOG'],['Dog'])"
   ]
  },
  {
   "cell_type": "code",
   "execution_count": 10,
   "metadata": {
    "colab": {
     "base_uri": "https://localhost:8080/"
    },
    "id": "Q10wWDZI6vOG",
    "outputId": "fac14a83-cd5a-4970-938d-2e1129ad7861"
   },
   "outputs": [
    {
     "name": "stdout",
     "output_type": "stream",
     "text": [
      "Different types of pets\n",
      "Dog\n",
      "Cat\n",
      "Pet Reptile\n",
      "Pig\n",
      "Horse\n",
      "Rabbit\n",
      "nan\n",
      "Other\n"
     ]
    }
   ],
   "source": [
    "print(\"Different types of pets\")\n",
    "pet_types=[]\n",
    "for i in df['Species'].unique():\n",
    "  print(i)\n",
    "  pet_types.append(i)"
   ]
  },
  {
   "cell_type": "code",
   "execution_count": 11,
   "metadata": {
    "colab": {
     "base_uri": "https://localhost:8080/"
    },
    "id": "KOdYg5J_58mB",
    "outputId": "04cc5d4f-0391-4daf-df52-80031b48b36d"
   },
   "outputs": [
    {
     "name": "stdout",
     "output_type": "stream",
     "text": [
      "Total number of dogs missing 19617\n",
      "percentage of dogs 0.08499566724436741\n"
     ]
    }
   ],
   "source": [
    "print(\"Total number of dogs missing\",df['Species'].value_counts()['Dog'])\n",
    "total_dogs_per=df['Species'].value_counts()['Dog']/df.size\n",
    "print(\"percentage of dogs\",total_dogs_per)"
   ]
  },
  {
   "cell_type": "code",
   "execution_count": 20,
   "metadata": {},
   "outputs": [
    {
     "name": "stdout",
     "output_type": "stream",
     "text": [
      "7.352015913573794\n",
      "0.41285351834816053\n",
      "25140\n",
      "    shelter_id intake_date Species  found_lng  found_lat  outcome_lng  \\\n",
      "96   Rochester  2021-01-01     Dog -77.607977  43.180587   -77.818658   \n",
      "120  Rochester  2021-05-18     Dog -77.590721  43.186155   -77.713842   \n",
      "149  Rochester  2021-12-02     Dog -77.587840  43.192495   -77.173657   \n",
      "150  Rochester  2021-12-03     Dog -77.567882  43.176069   -77.442413   \n",
      "161  Rochester  2021-01-04     Dog -77.644462  43.141385   -77.934398   \n",
      "\n",
      "     outcome_lat  distance_miles                           found_address  \\\n",
      "96     43.319909       14.336131        JOSEPH and AVE D Rochester 14621   \n",
      "120    43.265851        8.300449     500 CARTER ST 14621 Rochester 14621   \n",
      "149    43.231520       21.085977       1425 Portland Ave Rochester 14513   \n",
      "150    42.854546       23.086764  2000 Clifford av 14621 Rochester 14608   \n",
      "161    43.202084       15.236735           296 Aldine st Rochester 14614   \n",
      "\n",
      "                                  outcome_address  \n",
      "96   695 HAMILN PARMA TOWNLINE RD Hilton NY 14468  \n",
      "120       629 WHISPERING PINES Rochester NY 14612  \n",
      "149             4359 RIDGE RD Williamson NY 14589  \n",
      "150          74444 Weiland rd Bloomfield NY 14469  \n",
      "161          50 SWEDEN HILL RD Brockport NY 14420  \n"
     ]
    }
   ],
   "source": [
    "mean_df=df['distance_miles'].mean()\n",
    "print(mean_df)\n",
    "print(df['distance_miles'].median())\n",
    "\n",
    "df_dist_gt_mean=df[df['distance_miles']>mean_df]\n",
    "print(df_dist_gt_mean.size)\n",
    "print(df_dist_gt_mean.head())"
   ]
  },
  {
   "cell_type": "code",
   "execution_count": 12,
   "metadata": {
    "colab": {
     "base_uri": "https://localhost:8080/"
    },
    "id": "IzOO4PNp7r7-",
    "outputId": "6fb8df4f-3c92-4d33-bf77-6ced8829e8c1"
   },
   "outputs": [
    {
     "data": {
      "text/plain": [
       "0"
      ]
     },
     "execution_count": 12,
     "metadata": {},
     "output_type": "execute_result"
    }
   ],
   "source": [
    "df[df['Species']=='nan'].size"
   ]
  },
  {
   "cell_type": "code",
   "execution_count": 13,
   "metadata": {
    "colab": {
     "base_uri": "https://localhost:8080/"
    },
    "id": "yW3uGNSr6CjI",
    "outputId": "9e2db9cd-a899-4920-e0ca-5cc85482d1e7"
   },
   "outputs": [
    {
     "name": "stdout",
     "output_type": "stream",
     "text": [
      "Total number of Dog missing 19617\n",
      "percentage ofDog 0.08499566724436741 \n",
      "Total number of Cat missing 316\n",
      "percentage ofCat 0.0013691507798960138 \n",
      "Total number of Pet Reptile missing 1\n",
      "percentage ofPet Reptile 4.332755632582323e-06 \n",
      "Total number of Pig missing 2\n",
      "percentage ofPig 8.665511265164645e-06 \n",
      "Total number of Horse missing 2\n",
      "percentage ofHorse 8.665511265164645e-06 \n",
      "Total number of Rabbit missing 1\n",
      "percentage ofRabbit 4.332755632582323e-06 \n",
      "Total number of Other missing 27\n",
      "percentage ofOther 0.00011698440207972271 \n",
      "{'Dog': 19617, 'Cat': 316, 'Pet Reptile': 1, 'Pig': 2, 'Horse': 2, 'Rabbit': 1, 'Other': 27}\n"
     ]
    }
   ],
   "source": [
    "dict={}\n",
    "for i in pet_types:\n",
    "  if df[df['Species']==i].size:\n",
    "    \n",
    "    print(f\"Total number of {i} missing {df['Species'].value_counts()[i]}\")\n",
    "    dict[i]=df['Species'].value_counts()[i]\n",
    "    per=df['Species'].value_counts()[i]/df.size\n",
    "    print(f\"percentage of{i} {per} \")\n",
    "print(dict)"
   ]
  },
  {
   "cell_type": "markdown",
   "metadata": {
    "id": "NfNJJVj-8A7f"
   },
   "source": [
    "* Observation Dogs are more missing\n",
    "* next cat\n",
    "* next others(bear,panda)"
   ]
  },
  {
   "cell_type": "code",
   "execution_count": null,
   "metadata": {
    "id": "wv-kOzg49cnu"
   },
   "outputs": [],
   "source": [
    "\n"
   ]
  },
  {
   "cell_type": "code",
   "execution_count": null,
   "metadata": {
    "id": "y6yzyV_b91xx"
   },
   "outputs": [],
   "source": []
  },
  {
   "cell_type": "code",
   "execution_count": null,
   "metadata": {},
   "outputs": [],
   "source": []
  }
 ],
 "metadata": {
  "colab": {
   "name": "RTO_Hackathon.ipynb",
   "provenance": []
  },
  "kernelspec": {
   "display_name": "Python 3 (ipykernel)",
   "language": "python",
   "name": "python3"
  },
  "language_info": {
   "codemirror_mode": {
    "name": "ipython",
    "version": 3
   },
   "file_extension": ".py",
   "mimetype": "text/x-python",
   "name": "python",
   "nbconvert_exporter": "python",
   "pygments_lexer": "ipython3",
   "version": "3.9.12"
  }
 },
 "nbformat": 4,
 "nbformat_minor": 1
}
