{
 "cells": [
  {
   "cell_type": "code",
   "execution_count": null,
   "metadata": {
    "id": "lO8tFwPSvLyR"
   },
   "outputs": [],
   "source": [
    "import pandas as pd\n",
    "from math import sin, cos, sqrt, atan2"
   ]
  },
  {
   "cell_type": "code",
   "execution_count": null,
   "metadata": {
    "id": "f3wgD6uqwPSq"
   },
   "outputs": [],
   "source": [
    "# import pandas lib as pd\n",
    "import pandas as pd\n",
    "\n",
    "# read by default 1st sheet of an excel file\n",
    "dataframe1 = pd.read_excel('/content/drive/MyDrive/RTO_Hackathon/ampa_wmt_rto_hackathon_july-22_data.xlsx')\n",
    "\n",
    "df=pd.read_excel('/content/drive/MyDrive/RTO_Hackathon/ampa_wmt_rto_hackathon_july-22_data.xlsx')\n"
   ]
  },
  {
   "cell_type": "code",
   "execution_count": null,
   "metadata": {
    "colab": {
     "base_uri": "https://localhost:8080/"
    },
    "id": "KK_hTYLb4Ogu",
    "outputId": "5e3348c2-4c25-4eb8-d3af-d197d9f06dac"
   },
   "outputs": [
    {
     "name": "stdout",
     "output_type": "stream",
     "text": [
      "total number of features 230800\n"
     ]
    }
   ],
   "source": [
    "print(f\"total number of features {dataframe1.size}\")"
   ]
  },
  {
   "cell_type": "code",
   "execution_count": null,
   "metadata": {
    "colab": {
     "base_uri": "https://localhost:8080/",
     "height": 444
    },
    "id": "4Xs7GBRFwESF",
    "outputId": "d7d413f8-4ea0-4d43-ac2f-446873d8f124"
   },
   "outputs": [
    {
     "data": {
      "text/html": [
       "\n",
       "  <div id=\"df-01db47a9-86ca-4b7a-9849-b1866da84171\">\n",
       "    <div class=\"colab-df-container\">\n",
       "      <div>\n",
       "<style scoped>\n",
       "    .dataframe tbody tr th:only-of-type {\n",
       "        vertical-align: middle;\n",
       "    }\n",
       "\n",
       "    .dataframe tbody tr th {\n",
       "        vertical-align: top;\n",
       "    }\n",
       "\n",
       "    .dataframe thead th {\n",
       "        text-align: right;\n",
       "    }\n",
       "</style>\n",
       "<table border=\"1\" class=\"dataframe\">\n",
       "  <thead>\n",
       "    <tr style=\"text-align: right;\">\n",
       "      <th></th>\n",
       "      <th>shelter_id</th>\n",
       "      <th>intake_date</th>\n",
       "      <th>Species</th>\n",
       "      <th>found_lng</th>\n",
       "      <th>found_lat</th>\n",
       "      <th>outcome_lng</th>\n",
       "      <th>outcome_lat</th>\n",
       "      <th>distance_miles</th>\n",
       "      <th>found_address</th>\n",
       "      <th>outcome_address</th>\n",
       "    </tr>\n",
       "  </thead>\n",
       "  <tbody>\n",
       "    <tr>\n",
       "      <th>0</th>\n",
       "      <td>Rochester</td>\n",
       "      <td>2021-01-28</td>\n",
       "      <td>Dog</td>\n",
       "      <td>-77.633991</td>\n",
       "      <td>43.177237</td>\n",
       "      <td>-77.634618</td>\n",
       "      <td>43.178387</td>\n",
       "      <td>0.085445</td>\n",
       "      <td>158 Glenwood ave Rochester 14613</td>\n",
       "      <td>54 Tacoma Street Rochester NY 14613</td>\n",
       "    </tr>\n",
       "    <tr>\n",
       "      <th>1</th>\n",
       "      <td>Rochester</td>\n",
       "      <td>2021-01-30</td>\n",
       "      <td>Dog</td>\n",
       "      <td>-77.599173</td>\n",
       "      <td>43.185495</td>\n",
       "      <td>-77.583367</td>\n",
       "      <td>43.171650</td>\n",
       "      <td>1.245466</td>\n",
       "      <td>1094 HUDSON AVE 14621 Rochester 14621</td>\n",
       "      <td>31 CROMBIE ST Rochester NY 14605</td>\n",
       "    </tr>\n",
       "    <tr>\n",
       "      <th>2</th>\n",
       "      <td>Rochester</td>\n",
       "      <td>2021-01-30</td>\n",
       "      <td>Dog</td>\n",
       "      <td>-77.617074</td>\n",
       "      <td>43.241926</td>\n",
       "      <td>-77.615373</td>\n",
       "      <td>43.249483</td>\n",
       "      <td>0.528722</td>\n",
       "      <td>17 Hughes pl Rochester 14608</td>\n",
       "      <td>4313 LAKE AVE Rochester NY 14612</td>\n",
       "    </tr>\n",
       "    <tr>\n",
       "      <th>3</th>\n",
       "      <td>Rochester</td>\n",
       "      <td>2021-02-01</td>\n",
       "      <td>Dog</td>\n",
       "      <td>-77.643231</td>\n",
       "      <td>43.180933</td>\n",
       "      <td>-77.645970</td>\n",
       "      <td>43.179665</td>\n",
       "      <td>0.163735</td>\n",
       "      <td>DRIVING PK and  2 CANARY ST. Rochester 14608</td>\n",
       "      <td>1 CANARY ST Rochester NY 14613</td>\n",
       "    </tr>\n",
       "    <tr>\n",
       "      <th>4</th>\n",
       "      <td>Rochester</td>\n",
       "      <td>2021-02-03</td>\n",
       "      <td>Dog</td>\n",
       "      <td>-77.650684</td>\n",
       "      <td>43.143780</td>\n",
       "      <td>-77.653187</td>\n",
       "      <td>43.145435</td>\n",
       "      <td>0.170467</td>\n",
       "      <td>74 Thurston Rd Rochester 14608</td>\n",
       "      <td>216 DEPEW Street Rochester NY 14611</td>\n",
       "    </tr>\n",
       "  </tbody>\n",
       "</table>\n",
       "</div>\n",
       "      <button class=\"colab-df-convert\" onclick=\"convertToInteractive('df-01db47a9-86ca-4b7a-9849-b1866da84171')\"\n",
       "              title=\"Convert this dataframe to an interactive table.\"\n",
       "              style=\"display:none;\">\n",
       "        \n",
       "  <svg xmlns=\"http://www.w3.org/2000/svg\" height=\"24px\"viewBox=\"0 0 24 24\"\n",
       "       width=\"24px\">\n",
       "    <path d=\"M0 0h24v24H0V0z\" fill=\"none\"/>\n",
       "    <path d=\"M18.56 5.44l.94 2.06.94-2.06 2.06-.94-2.06-.94-.94-2.06-.94 2.06-2.06.94zm-11 1L8.5 8.5l.94-2.06 2.06-.94-2.06-.94L8.5 2.5l-.94 2.06-2.06.94zm10 10l.94 2.06.94-2.06 2.06-.94-2.06-.94-.94-2.06-.94 2.06-2.06.94z\"/><path d=\"M17.41 7.96l-1.37-1.37c-.4-.4-.92-.59-1.43-.59-.52 0-1.04.2-1.43.59L10.3 9.45l-7.72 7.72c-.78.78-.78 2.05 0 2.83L4 21.41c.39.39.9.59 1.41.59.51 0 1.02-.2 1.41-.59l7.78-7.78 2.81-2.81c.8-.78.8-2.07 0-2.86zM5.41 20L4 18.59l7.72-7.72 1.47 1.35L5.41 20z\"/>\n",
       "  </svg>\n",
       "      </button>\n",
       "      \n",
       "  <style>\n",
       "    .colab-df-container {\n",
       "      display:flex;\n",
       "      flex-wrap:wrap;\n",
       "      gap: 12px;\n",
       "    }\n",
       "\n",
       "    .colab-df-convert {\n",
       "      background-color: #E8F0FE;\n",
       "      border: none;\n",
       "      border-radius: 50%;\n",
       "      cursor: pointer;\n",
       "      display: none;\n",
       "      fill: #1967D2;\n",
       "      height: 32px;\n",
       "      padding: 0 0 0 0;\n",
       "      width: 32px;\n",
       "    }\n",
       "\n",
       "    .colab-df-convert:hover {\n",
       "      background-color: #E2EBFA;\n",
       "      box-shadow: 0px 1px 2px rgba(60, 64, 67, 0.3), 0px 1px 3px 1px rgba(60, 64, 67, 0.15);\n",
       "      fill: #174EA6;\n",
       "    }\n",
       "\n",
       "    [theme=dark] .colab-df-convert {\n",
       "      background-color: #3B4455;\n",
       "      fill: #D2E3FC;\n",
       "    }\n",
       "\n",
       "    [theme=dark] .colab-df-convert:hover {\n",
       "      background-color: #434B5C;\n",
       "      box-shadow: 0px 1px 3px 1px rgba(0, 0, 0, 0.15);\n",
       "      filter: drop-shadow(0px 1px 2px rgba(0, 0, 0, 0.3));\n",
       "      fill: #FFFFFF;\n",
       "    }\n",
       "  </style>\n",
       "\n",
       "      <script>\n",
       "        const buttonEl =\n",
       "          document.querySelector('#df-01db47a9-86ca-4b7a-9849-b1866da84171 button.colab-df-convert');\n",
       "        buttonEl.style.display =\n",
       "          google.colab.kernel.accessAllowed ? 'block' : 'none';\n",
       "\n",
       "        async function convertToInteractive(key) {\n",
       "          const element = document.querySelector('#df-01db47a9-86ca-4b7a-9849-b1866da84171');\n",
       "          const dataTable =\n",
       "            await google.colab.kernel.invokeFunction('convertToInteractive',\n",
       "                                                     [key], {});\n",
       "          if (!dataTable) return;\n",
       "\n",
       "          const docLinkHtml = 'Like what you see? Visit the ' +\n",
       "            '<a target=\"_blank\" href=https://colab.research.google.com/notebooks/data_table.ipynb>data table notebook</a>'\n",
       "            + ' to learn more about interactive tables.';\n",
       "          element.innerHTML = '';\n",
       "          dataTable['output_type'] = 'display_data';\n",
       "          await google.colab.output.renderOutput(dataTable, element);\n",
       "          const docLink = document.createElement('div');\n",
       "          docLink.innerHTML = docLinkHtml;\n",
       "          element.appendChild(docLink);\n",
       "        }\n",
       "      </script>\n",
       "    </div>\n",
       "  </div>\n",
       "  "
      ],
      "text/plain": [
       "  shelter_id intake_date Species  found_lng  found_lat  outcome_lng  \\\n",
       "0  Rochester  2021-01-28     Dog -77.633991  43.177237   -77.634618   \n",
       "1  Rochester  2021-01-30     Dog -77.599173  43.185495   -77.583367   \n",
       "2  Rochester  2021-01-30     Dog -77.617074  43.241926   -77.615373   \n",
       "3  Rochester  2021-02-01     Dog -77.643231  43.180933   -77.645970   \n",
       "4  Rochester  2021-02-03     Dog -77.650684  43.143780   -77.653187   \n",
       "\n",
       "   outcome_lat  distance_miles                                 found_address  \\\n",
       "0    43.178387        0.085445              158 Glenwood ave Rochester 14613   \n",
       "1    43.171650        1.245466         1094 HUDSON AVE 14621 Rochester 14621   \n",
       "2    43.249483        0.528722                  17 Hughes pl Rochester 14608   \n",
       "3    43.179665        0.163735  DRIVING PK and  2 CANARY ST. Rochester 14608   \n",
       "4    43.145435        0.170467                74 Thurston Rd Rochester 14608   \n",
       "\n",
       "                       outcome_address  \n",
       "0  54 Tacoma Street Rochester NY 14613  \n",
       "1     31 CROMBIE ST Rochester NY 14605  \n",
       "2     4313 LAKE AVE Rochester NY 14612  \n",
       "3       1 CANARY ST Rochester NY 14613  \n",
       "4  216 DEPEW Street Rochester NY 14611  "
      ]
     },
     "execution_count": 4,
     "metadata": {},
     "output_type": "execute_result"
    }
   ],
   "source": [
    "dataframe1.head()"
   ]
  },
  {
   "cell_type": "code",
   "execution_count": null,
   "metadata": {
    "colab": {
     "base_uri": "https://localhost:8080/"
    },
    "id": "1Og5Etc2wrGF",
    "outputId": "f5e92d63-1af4-4636-b1e1-ef1d0cea737c"
   },
   "outputs": [
    {
     "data": {
      "text/plain": [
       "8344"
      ]
     },
     "execution_count": 19,
     "metadata": {},
     "output_type": "execute_result"
    }
   ],
   "source": [
    "df['Species'].value_counts()['Dog']"
   ]
  },
  {
   "cell_type": "code",
   "execution_count": null,
   "metadata": {
    "colab": {
     "base_uri": "https://localhost:8080/"
    },
    "id": "EHhJhh8Zw0L5",
    "outputId": "2d081ac9-fd99-4eab-839b-3e591f9193eb"
   },
   "outputs": [
    {
     "name": "stdout",
     "output_type": "stream",
     "text": [
      "Different types of pets\n",
      "Dog\n",
      "Cat\n",
      "Pet Reptile\n",
      "Pig\n",
      "Horse\n",
      "Rabbit\n",
      "DOG\n",
      "nan\n",
      "Other\n"
     ]
    }
   ],
   "source": [
    "print(\"Different types of pets\")\n",
    "pet_types=[]\n",
    "for i in df['Species'].unique():\n",
    "  print(i)\n",
    "  pet_types.append(i)\n"
   ]
  },
  {
   "cell_type": "code",
   "execution_count": null,
   "metadata": {
    "id": "wYbetLWSxQj_"
   },
   "outputs": [],
   "source": [
    "# combining dog and DOG\n",
    "df['Species'] = df['Species'].replace(['DOG'],['Dog'])"
   ]
  },
  {
   "cell_type": "code",
   "execution_count": null,
   "metadata": {
    "colab": {
     "base_uri": "https://localhost:8080/"
    },
    "id": "Q10wWDZI6vOG",
    "outputId": "fac14a83-cd5a-4970-938d-2e1129ad7861"
   },
   "outputs": [
    {
     "name": "stdout",
     "output_type": "stream",
     "text": [
      "Different types of pets\n",
      "Dog\n",
      "Cat\n",
      "Pet Reptile\n",
      "Pig\n",
      "Horse\n",
      "Rabbit\n",
      "nan\n",
      "Other\n"
     ]
    }
   ],
   "source": [
    "print(\"Different types of pets\")\n",
    "pet_types=[]\n",
    "for i in df['Species'].unique():\n",
    "  print(i)\n",
    "  pet_types.append(i)"
   ]
  },
  {
   "cell_type": "code",
   "execution_count": null,
   "metadata": {
    "colab": {
     "base_uri": "https://localhost:8080/"
    },
    "id": "KOdYg5J_58mB",
    "outputId": "04cc5d4f-0391-4daf-df52-80031b48b36d"
   },
   "outputs": [
    {
     "name": "stdout",
     "output_type": "stream",
     "text": [
      "Total number of dogs missing 19617\n",
      "percentage of dogs 0.08499566724436741\n"
     ]
    }
   ],
   "source": [
    "print(\"Total number of dogs missing\",df['Species'].value_counts()['Dog'])\n",
    "total_dogs_per=df['Species'].value_counts()['Dog']/df.size\n",
    "print(\"percentage of dogs\",total_dogs_per)"
   ]
  },
  {
   "cell_type": "code",
   "execution_count": null,
   "metadata": {
    "colab": {
     "base_uri": "https://localhost:8080/"
    },
    "id": "IzOO4PNp7r7-",
    "outputId": "6fb8df4f-3c92-4d33-bf77-6ced8829e8c1"
   },
   "outputs": [
    {
     "data": {
      "text/plain": [
       "0"
      ]
     },
     "execution_count": 36,
     "metadata": {},
     "output_type": "execute_result"
    }
   ],
   "source": [
    "df[df['Species']=='nan'].size"
   ]
  },
  {
   "cell_type": "code",
   "execution_count": null,
   "metadata": {
    "colab": {
     "base_uri": "https://localhost:8080/"
    },
    "id": "yW3uGNSr6CjI",
    "outputId": "9e2db9cd-a899-4920-e0ca-5cc85482d1e7"
   },
   "outputs": [
    {
     "name": "stdout",
     "output_type": "stream",
     "text": [
      "Total number of Dog missing 19617\n",
      "percentage ofDog 0.08499566724436741 \n",
      "Total number of Cat missing 316\n",
      "percentage ofCat 0.0013691507798960138 \n",
      "Total number of Pet Reptile missing 1\n",
      "percentage ofPet Reptile 4.332755632582323e-06 \n",
      "Total number of Pig missing 2\n",
      "percentage ofPig 8.665511265164645e-06 \n",
      "Total number of Horse missing 2\n",
      "percentage ofHorse 8.665511265164645e-06 \n",
      "Total number of Rabbit missing 1\n",
      "percentage ofRabbit 4.332755632582323e-06 \n",
      "Total number of Other missing 27\n",
      "percentage ofOther 0.00011698440207972271 \n",
      "{'Dog': 19617, 'Cat': 316, 'Pet Reptile': 1, 'Pig': 2, 'Horse': 2, 'Rabbit': 1, 'Other': 27}\n"
     ]
    }
   ],
   "source": [
    "dict={}\n",
    "for i in pet_types:\n",
    "  if df[df['Species']==i].size:\n",
    "    \n",
    "    print(f\"Total number of {i} missing {df['Species'].value_counts()[i]}\")\n",
    "    dict[i]=df['Species'].value_counts()[i]\n",
    "    per=df['Species'].value_counts()[i]/df.size\n",
    "    print(f\"percentage of{i} {per} \")\n",
    "print(dict)"
   ]
  },
  {
   "cell_type": "markdown",
   "metadata": {
    "id": "NfNJJVj-8A7f"
   },
   "source": [
    "* Observation Dogs are more missing\n",
    "* next cat\n",
    "* next others(bear,panda)"
   ]
  },
  {
   "cell_type": "code",
   "execution_count": null,
   "metadata": {
    "id": "wv-kOzg49cnu"
   },
   "outputs": [],
   "source": [
    "\n"
   ]
  },
  {
   "cell_type": "code",
   "execution_count": null,
   "metadata": {
    "id": "y6yzyV_b91xx"
   },
   "outputs": [],
   "source": []
  },
  {
   "cell_type": "code",
   "execution_count": null,
   "metadata": {},
   "outputs": [],
   "source": []
  }
 ],
 "metadata": {
  "colab": {
   "name": "RTO_Hackathon.ipynb",
   "provenance": []
  },
  "kernelspec": {
   "display_name": "Python 3 (ipykernel)",
   "language": "python",
   "name": "python3"
  },
  "language_info": {
   "codemirror_mode": {
    "name": "ipython",
    "version": 3
   },
   "file_extension": ".py",
   "mimetype": "text/x-python",
   "name": "python",
   "nbconvert_exporter": "python",
   "pygments_lexer": "ipython3",
   "version": "3.9.12"
  }
 },
 "nbformat": 4,
 "nbformat_minor": 1
}
