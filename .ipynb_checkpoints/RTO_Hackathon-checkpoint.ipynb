{
 "cells": [
  {
   "cell_type": "code",
   "execution_count": 77,
   "metadata": {
    "id": "lO8tFwPSvLyR"
   },
   "outputs": [],
   "source": [
    "import pandas as pd\n",
    "from math import sin, cos, sqrt, atan2\n",
    "import numpy as np\n",
    "import seaborn as sns\n",
    "from sklearn.preprocessing import OrdinalEncoder\n",
    "import tensorflow as tf"
   ]
  },
  {
   "cell_type": "code",
   "execution_count": 36,
   "metadata": {},
   "outputs": [],
   "source": [
    "from sklearn.model_selection import train_test_split\n"
   ]
  },
  {
   "cell_type": "code",
   "execution_count": 37,
   "metadata": {
    "id": "f3wgD6uqwPSq"
   },
   "outputs": [],
   "source": [
    "# import pandas lib as pd\n",
    "import pandas as pd\n",
    "\n",
    "# read by default 1st sheet of an excel file\n",
    "dataframe1 = pd.read_excel('C:/Users/manis/Downloads/RTO_Hackathon/src/data/ampa_wmt_rto_hackathon_july-22_data.xlsx')\n",
    "\n",
    "df=pd.read_excel('C:/Users/manis/Downloads/RTO_Hackathon/src/data/ampa_wmt_rto_hackathon_july-22_data.xlsx')\n"
   ]
  },
  {
   "cell_type": "code",
   "execution_count": 38,
   "metadata": {
    "colab": {
     "base_uri": "https://localhost:8080/"
    },
    "id": "KK_hTYLb4Ogu",
    "outputId": "5e3348c2-4c25-4eb8-d3af-d197d9f06dac"
   },
   "outputs": [
    {
     "name": "stdout",
     "output_type": "stream",
     "text": [
      "total number of features 230800\n"
     ]
    }
   ],
   "source": [
    "print(f\"total number of features {dataframe1.size}\")"
   ]
  },
  {
   "cell_type": "code",
   "execution_count": 39,
   "metadata": {
    "colab": {
     "base_uri": "https://localhost:8080/",
     "height": 444
    },
    "id": "4Xs7GBRFwESF",
    "outputId": "d7d413f8-4ea0-4d43-ac2f-446873d8f124"
   },
   "outputs": [
    {
     "data": {
      "text/html": [
       "<div>\n",
       "<style scoped>\n",
       "    .dataframe tbody tr th:only-of-type {\n",
       "        vertical-align: middle;\n",
       "    }\n",
       "\n",
       "    .dataframe tbody tr th {\n",
       "        vertical-align: top;\n",
       "    }\n",
       "\n",
       "    .dataframe thead th {\n",
       "        text-align: right;\n",
       "    }\n",
       "</style>\n",
       "<table border=\"1\" class=\"dataframe\">\n",
       "  <thead>\n",
       "    <tr style=\"text-align: right;\">\n",
       "      <th></th>\n",
       "      <th>shelter_id</th>\n",
       "      <th>intake_date</th>\n",
       "      <th>Species</th>\n",
       "      <th>found_lng</th>\n",
       "      <th>found_lat</th>\n",
       "      <th>outcome_lng</th>\n",
       "      <th>outcome_lat</th>\n",
       "      <th>distance_miles</th>\n",
       "      <th>found_address</th>\n",
       "      <th>outcome_address</th>\n",
       "    </tr>\n",
       "  </thead>\n",
       "  <tbody>\n",
       "    <tr>\n",
       "      <th>0</th>\n",
       "      <td>Rochester</td>\n",
       "      <td>2021-01-28</td>\n",
       "      <td>Dog</td>\n",
       "      <td>-77.633991</td>\n",
       "      <td>43.177237</td>\n",
       "      <td>-77.634618</td>\n",
       "      <td>43.178387</td>\n",
       "      <td>0.085445</td>\n",
       "      <td>158 Glenwood ave Rochester 14613</td>\n",
       "      <td>54 Tacoma Street Rochester NY 14613</td>\n",
       "    </tr>\n",
       "    <tr>\n",
       "      <th>1</th>\n",
       "      <td>Rochester</td>\n",
       "      <td>2021-01-30</td>\n",
       "      <td>Dog</td>\n",
       "      <td>-77.599173</td>\n",
       "      <td>43.185495</td>\n",
       "      <td>-77.583367</td>\n",
       "      <td>43.171650</td>\n",
       "      <td>1.245466</td>\n",
       "      <td>1094 HUDSON AVE 14621 Rochester 14621</td>\n",
       "      <td>31 CROMBIE ST Rochester NY 14605</td>\n",
       "    </tr>\n",
       "    <tr>\n",
       "      <th>2</th>\n",
       "      <td>Rochester</td>\n",
       "      <td>2021-01-30</td>\n",
       "      <td>Dog</td>\n",
       "      <td>-77.617074</td>\n",
       "      <td>43.241926</td>\n",
       "      <td>-77.615373</td>\n",
       "      <td>43.249483</td>\n",
       "      <td>0.528722</td>\n",
       "      <td>17 Hughes pl Rochester 14608</td>\n",
       "      <td>4313 LAKE AVE Rochester NY 14612</td>\n",
       "    </tr>\n",
       "    <tr>\n",
       "      <th>3</th>\n",
       "      <td>Rochester</td>\n",
       "      <td>2021-02-01</td>\n",
       "      <td>Dog</td>\n",
       "      <td>-77.643231</td>\n",
       "      <td>43.180933</td>\n",
       "      <td>-77.645970</td>\n",
       "      <td>43.179665</td>\n",
       "      <td>0.163735</td>\n",
       "      <td>DRIVING PK and  2 CANARY ST. Rochester 14608</td>\n",
       "      <td>1 CANARY ST Rochester NY 14613</td>\n",
       "    </tr>\n",
       "    <tr>\n",
       "      <th>4</th>\n",
       "      <td>Rochester</td>\n",
       "      <td>2021-02-03</td>\n",
       "      <td>Dog</td>\n",
       "      <td>-77.650684</td>\n",
       "      <td>43.143780</td>\n",
       "      <td>-77.653187</td>\n",
       "      <td>43.145435</td>\n",
       "      <td>0.170467</td>\n",
       "      <td>74 Thurston Rd Rochester 14608</td>\n",
       "      <td>216 DEPEW Street Rochester NY 14611</td>\n",
       "    </tr>\n",
       "  </tbody>\n",
       "</table>\n",
       "</div>"
      ],
      "text/plain": [
       "  shelter_id intake_date Species  found_lng  found_lat  outcome_lng  \\\n",
       "0  Rochester  2021-01-28     Dog -77.633991  43.177237   -77.634618   \n",
       "1  Rochester  2021-01-30     Dog -77.599173  43.185495   -77.583367   \n",
       "2  Rochester  2021-01-30     Dog -77.617074  43.241926   -77.615373   \n",
       "3  Rochester  2021-02-01     Dog -77.643231  43.180933   -77.645970   \n",
       "4  Rochester  2021-02-03     Dog -77.650684  43.143780   -77.653187   \n",
       "\n",
       "   outcome_lat  distance_miles                                 found_address  \\\n",
       "0    43.178387        0.085445              158 Glenwood ave Rochester 14613   \n",
       "1    43.171650        1.245466         1094 HUDSON AVE 14621 Rochester 14621   \n",
       "2    43.249483        0.528722                  17 Hughes pl Rochester 14608   \n",
       "3    43.179665        0.163735  DRIVING PK and  2 CANARY ST. Rochester 14608   \n",
       "4    43.145435        0.170467                74 Thurston Rd Rochester 14608   \n",
       "\n",
       "                       outcome_address  \n",
       "0  54 Tacoma Street Rochester NY 14613  \n",
       "1     31 CROMBIE ST Rochester NY 14605  \n",
       "2     4313 LAKE AVE Rochester NY 14612  \n",
       "3       1 CANARY ST Rochester NY 14613  \n",
       "4  216 DEPEW Street Rochester NY 14611  "
      ]
     },
     "execution_count": 39,
     "metadata": {},
     "output_type": "execute_result"
    }
   ],
   "source": [
    "dataframe1.head()"
   ]
  },
  {
   "cell_type": "code",
   "execution_count": 40,
   "metadata": {},
   "outputs": [
    {
     "data": {
      "text/plain": [
       "Index(['shelter_id', 'intake_date', 'Species', 'found_lng', 'found_lat',\n",
       "       'outcome_lng', 'outcome_lat', 'distance_miles', 'found_address',\n",
       "       'outcome_address'],\n",
       "      dtype='object')"
      ]
     },
     "execution_count": 40,
     "metadata": {},
     "output_type": "execute_result"
    }
   ],
   "source": [
    "df.columns"
   ]
  },
  {
   "cell_type": "code",
   "execution_count": 41,
   "metadata": {
    "colab": {
     "base_uri": "https://localhost:8080/"
    },
    "id": "1Og5Etc2wrGF",
    "outputId": "f5e92d63-1af4-4636-b1e1-ef1d0cea737c"
   },
   "outputs": [
    {
     "data": {
      "text/plain": [
       "8344"
      ]
     },
     "execution_count": 41,
     "metadata": {},
     "output_type": "execute_result"
    }
   ],
   "source": [
    "df['Species'].value_counts()['Dog']"
   ]
  },
  {
   "cell_type": "code",
   "execution_count": null,
   "metadata": {},
   "outputs": [],
   "source": []
  },
  {
   "cell_type": "code",
   "execution_count": 42,
   "metadata": {
    "colab": {
     "base_uri": "https://localhost:8080/"
    },
    "id": "EHhJhh8Zw0L5",
    "outputId": "2d081ac9-fd99-4eab-839b-3e591f9193eb"
   },
   "outputs": [
    {
     "name": "stdout",
     "output_type": "stream",
     "text": [
      "Different types of pets\n",
      "Dog\n",
      "Cat\n",
      "Pet Reptile\n",
      "Pig\n",
      "Horse\n",
      "Rabbit\n",
      "DOG\n",
      "nan\n",
      "Other\n"
     ]
    }
   ],
   "source": [
    "print(\"Different types of pets\")\n",
    "pet_types=[]\n",
    "for i in df['Species'].unique():\n",
    "  print(i)\n",
    "  pet_types.append(i)\n"
   ]
  },
  {
   "cell_type": "markdown",
   "metadata": {},
   "source": [
    "# Removing duplicates here 'Dog' and 'DOG'"
   ]
  },
  {
   "cell_type": "code",
   "execution_count": 43,
   "metadata": {
    "id": "wYbetLWSxQj_"
   },
   "outputs": [],
   "source": [
    "# combining dog and DOG\n",
    "df['Species'] = df['Species'].replace(['DOG'],['Dog'])"
   ]
  },
  {
   "cell_type": "code",
   "execution_count": 44,
   "metadata": {
    "colab": {
     "base_uri": "https://localhost:8080/"
    },
    "id": "Q10wWDZI6vOG",
    "outputId": "fac14a83-cd5a-4970-938d-2e1129ad7861"
   },
   "outputs": [
    {
     "name": "stdout",
     "output_type": "stream",
     "text": [
      "Different types of pets\n",
      "Dog\n",
      "Cat\n",
      "Pet Reptile\n",
      "Pig\n",
      "Horse\n",
      "Rabbit\n",
      "nan\n",
      "Other\n"
     ]
    }
   ],
   "source": [
    "print(\"Different types of pets\")\n",
    "pet_types=[]\n",
    "for i in df['Species'].unique():\n",
    "  print(i)\n",
    "  pet_types.append(i)"
   ]
  },
  {
   "cell_type": "markdown",
   "metadata": {},
   "source": [
    "# Checking the distance for each species"
   ]
  },
  {
   "cell_type": "code",
   "execution_count": 45,
   "metadata": {},
   "outputs": [
    {
     "data": {
      "text/html": [
       "<div>\n",
       "<style scoped>\n",
       "    .dataframe tbody tr th:only-of-type {\n",
       "        vertical-align: middle;\n",
       "    }\n",
       "\n",
       "    .dataframe tbody tr th {\n",
       "        vertical-align: top;\n",
       "    }\n",
       "\n",
       "    .dataframe thead th {\n",
       "        text-align: right;\n",
       "    }\n",
       "</style>\n",
       "<table border=\"1\" class=\"dataframe\">\n",
       "  <thead>\n",
       "    <tr style=\"text-align: right;\">\n",
       "      <th></th>\n",
       "      <th>min</th>\n",
       "      <th>max</th>\n",
       "      <th>median</th>\n",
       "      <th>mean</th>\n",
       "    </tr>\n",
       "    <tr>\n",
       "      <th>Species</th>\n",
       "      <th></th>\n",
       "      <th></th>\n",
       "      <th></th>\n",
       "      <th></th>\n",
       "    </tr>\n",
       "  </thead>\n",
       "  <tbody>\n",
       "    <tr>\n",
       "      <th>Cat</th>\n",
       "      <td>0.000000</td>\n",
       "      <td>1717.148025</td>\n",
       "      <td>0.118846</td>\n",
       "      <td>12.204790</td>\n",
       "    </tr>\n",
       "    <tr>\n",
       "      <th>Dog</th>\n",
       "      <td>0.000000</td>\n",
       "      <td>4998.633934</td>\n",
       "      <td>0.388912</td>\n",
       "      <td>4.143662</td>\n",
       "    </tr>\n",
       "    <tr>\n",
       "      <th>Horse</th>\n",
       "      <td>3.680986</td>\n",
       "      <td>3.680986</td>\n",
       "      <td>3.680986</td>\n",
       "      <td>3.680986</td>\n",
       "    </tr>\n",
       "    <tr>\n",
       "      <th>Other</th>\n",
       "      <td>0.000000</td>\n",
       "      <td>8.399819</td>\n",
       "      <td>6.213344</td>\n",
       "      <td>3.864640</td>\n",
       "    </tr>\n",
       "    <tr>\n",
       "      <th>Pet Reptile</th>\n",
       "      <td>1.641663</td>\n",
       "      <td>1.641663</td>\n",
       "      <td>1.641663</td>\n",
       "      <td>1.641663</td>\n",
       "    </tr>\n",
       "    <tr>\n",
       "      <th>Pig</th>\n",
       "      <td>0.250052</td>\n",
       "      <td>6.673253</td>\n",
       "      <td>3.461653</td>\n",
       "      <td>3.461653</td>\n",
       "    </tr>\n",
       "    <tr>\n",
       "      <th>Rabbit</th>\n",
       "      <td>0.054606</td>\n",
       "      <td>0.054606</td>\n",
       "      <td>0.054606</td>\n",
       "      <td>0.054606</td>\n",
       "    </tr>\n",
       "  </tbody>\n",
       "</table>\n",
       "</div>"
      ],
      "text/plain": [
       "                  min          max    median       mean\n",
       "Species                                                \n",
       "Cat          0.000000  1717.148025  0.118846  12.204790\n",
       "Dog          0.000000  4998.633934  0.388912   4.143662\n",
       "Horse        3.680986     3.680986  3.680986   3.680986\n",
       "Other        0.000000     8.399819  6.213344   3.864640\n",
       "Pet Reptile  1.641663     1.641663  1.641663   1.641663\n",
       "Pig          0.250052     6.673253  3.461653   3.461653\n",
       "Rabbit       0.054606     0.054606  0.054606   0.054606"
      ]
     },
     "execution_count": 45,
     "metadata": {},
     "output_type": "execute_result"
    }
   ],
   "source": [
    "df.groupby('Species')['distance_miles'].agg([min,max,np.median,np.mean])"
   ]
  },
  {
   "cell_type": "code",
   "execution_count": 46,
   "metadata": {},
   "outputs": [],
   "source": [
    "stat_df_mean=df.groupby('Species')['distance_miles'].mean()"
   ]
  },
  {
   "cell_type": "code",
   "execution_count": 47,
   "metadata": {},
   "outputs": [
    {
     "data": {
      "text/plain": [
       "<AxesSubplot:xlabel='Species'>"
      ]
     },
     "execution_count": 47,
     "metadata": {},
     "output_type": "execute_result"
    },
    {
     "data": {
      "image/png": "[encoded data removed]",
      "text/plain": [
       "<Figure size 432x288 with 1 Axes>"
      ]
     },
     "metadata": {
      "needs_background": "light"
     },
     "output_type": "display_data"
    }
   ],
   "source": [
    "stat_df_mean.plot(kind='bar')"
   ]
  },
  {
   "cell_type": "code",
   "execution_count": 48,
   "metadata": {},
   "outputs": [
    {
     "data": {
      "text/plain": [
       "<AxesSubplot:xlabel='Species'>"
      ]
     },
     "execution_count": 48,
     "metadata": {},
     "output_type": "execute_result"
    },
    {
     "data": {
      "image/png": "[encoded data removed]",
      "text/plain": [
       "<Figure size 432x288 with 1 Axes>"
      ]
     },
     "metadata": {
      "needs_background": "light"
     },
     "output_type": "display_data"
    }
   ],
   "source": [
    "stat_df_median=df.groupby('Species')['distance_miles'].median()\n",
    "stat_df_median.plot(kind='bar')"
   ]
  },
  {
   "cell_type": "code",
   "execution_count": 49,
   "metadata": {},
   "outputs": [
    {
     "data": {
      "text/plain": [
       "Species\n",
       "Cat            12.204790\n",
       "Dog             4.143662\n",
       "Horse           3.680986\n",
       "Other           3.864640\n",
       "Pet Reptile     1.641663\n",
       "Pig             3.461653\n",
       "Rabbit          0.054606\n",
       "Name: distance_miles, dtype: float64"
      ]
     },
     "execution_count": 49,
     "metadata": {},
     "output_type": "execute_result"
    }
   ],
   "source": [
    "df.groupby('Species')['distance_miles'].mean()"
   ]
  },
  {
   "cell_type": "code",
   "execution_count": 50,
   "metadata": {},
   "outputs": [
    {
     "data": {
      "text/plain": [
       "Species\n",
       "Cat            0.118846\n",
       "Dog            0.388912\n",
       "Horse          3.680986\n",
       "Other          6.213344\n",
       "Pet Reptile    1.641663\n",
       "Pig            3.461653\n",
       "Rabbit         0.054606\n",
       "Name: distance_miles, dtype: float64"
      ]
     },
     "execution_count": 50,
     "metadata": {},
     "output_type": "execute_result"
    }
   ],
   "source": [
    "df.groupby('Species')['distance_miles'].median()"
   ]
  },
  {
   "cell_type": "markdown",
   "metadata": {},
   "source": [
    "# obseravation cat travelled lot of miles"
   ]
  },
  {
   "cell_type": "code",
   "execution_count": 51,
   "metadata": {
    "colab": {
     "base_uri": "https://localhost:8080/"
    },
    "id": "KOdYg5J_58mB",
    "outputId": "04cc5d4f-0391-4daf-df52-80031b48b36d"
   },
   "outputs": [
    {
     "name": "stdout",
     "output_type": "stream",
     "text": [
      "Total number of dogs missing 19617\n",
      "percentage of dogs 0.08499566724436741\n"
     ]
    }
   ],
   "source": [
    "print(\"Total number of dogs missing\",df['Species'].value_counts()['Dog'])\n",
    "total_dogs_per=df['Species'].value_counts()['Dog']/df.size\n",
    "print(\"percentage of dogs\",total_dogs_per)"
   ]
  },
  {
   "cell_type": "code",
   "execution_count": 52,
   "metadata": {},
   "outputs": [
    {
     "name": "stdout",
     "output_type": "stream",
     "text": [
      "7.352015913573794\n",
      "0.41285351834816053\n",
      "25140\n",
      "    shelter_id intake_date Species  found_lng  found_lat  outcome_lng  \\\n",
      "96   Rochester  2021-01-01     Dog -77.607977  43.180587   -77.818658   \n",
      "120  Rochester  2021-05-18     Dog -77.590721  43.186155   -77.713842   \n",
      "149  Rochester  2021-12-02     Dog -77.587840  43.192495   -77.173657   \n",
      "150  Rochester  2021-12-03     Dog -77.567882  43.176069   -77.442413   \n",
      "161  Rochester  2021-01-04     Dog -77.644462  43.141385   -77.934398   \n",
      "\n",
      "     outcome_lat  distance_miles                           found_address  \\\n",
      "96     43.319909       14.336131        JOSEPH and AVE D Rochester 14621   \n",
      "120    43.265851        8.300449     500 CARTER ST 14621 Rochester 14621   \n",
      "149    43.231520       21.085977       1425 Portland Ave Rochester 14513   \n",
      "150    42.854546       23.086764  2000 Clifford av 14621 Rochester 14608   \n",
      "161    43.202084       15.236735           296 Aldine st Rochester 14614   \n",
      "\n",
      "                                  outcome_address  \n",
      "96   695 HAMILN PARMA TOWNLINE RD Hilton NY 14468  \n",
      "120       629 WHISPERING PINES Rochester NY 14612  \n",
      "149             4359 RIDGE RD Williamson NY 14589  \n",
      "150          74444 Weiland rd Bloomfield NY 14469  \n",
      "161          50 SWEDEN HILL RD Brockport NY 14420  \n"
     ]
    }
   ],
   "source": [
    "mean_df=df['distance_miles'].mean()\n",
    "print(mean_df)\n",
    "print(df['distance_miles'].median())\n",
    "\n",
    "df_dist_gt_mean=df[df['distance_miles']>mean_df]\n",
    "print(df_dist_gt_mean.size)\n",
    "print(df_dist_gt_mean.head())"
   ]
  },
  {
   "cell_type": "markdown",
   "metadata": {},
   "source": [
    "# find missing values"
   ]
  },
  {
   "cell_type": "code",
   "execution_count": 53,
   "metadata": {},
   "outputs": [
    {
     "data": {
      "text/plain": [
       "shelter_id            0\n",
       "intake_date           0\n",
       "Species            3114\n",
       "found_lng          3114\n",
       "found_lat          3114\n",
       "outcome_lng        3114\n",
       "outcome_lat        3114\n",
       "distance_miles       26\n",
       "found_address         0\n",
       "outcome_address      12\n",
       "dtype: int64"
      ]
     },
     "execution_count": 53,
     "metadata": {},
     "output_type": "execute_result"
    }
   ],
   "source": [
    "df.isnull().sum()"
   ]
  },
  {
   "cell_type": "markdown",
   "metadata": {},
   "source": [
    "# species have 3114 missing values wee will take a look at the data to find the species based on the available data"
   ]
  },
  {
   "cell_type": "code",
   "execution_count": 54,
   "metadata": {
    "scrolled": true
   },
   "outputs": [
    {
     "data": {
      "text/html": [
       "<div>\n",
       "<style scoped>\n",
       "    .dataframe tbody tr th:only-of-type {\n",
       "        vertical-align: middle;\n",
       "    }\n",
       "\n",
       "    .dataframe tbody tr th {\n",
       "        vertical-align: top;\n",
       "    }\n",
       "\n",
       "    .dataframe thead th {\n",
       "        text-align: right;\n",
       "    }\n",
       "</style>\n",
       "<table border=\"1\" class=\"dataframe\">\n",
       "  <thead>\n",
       "    <tr style=\"text-align: right;\">\n",
       "      <th></th>\n",
       "      <th>shelter_id</th>\n",
       "      <th>intake_date</th>\n",
       "      <th>Species</th>\n",
       "      <th>found_lng</th>\n",
       "      <th>found_lat</th>\n",
       "      <th>outcome_lng</th>\n",
       "      <th>outcome_lat</th>\n",
       "      <th>distance_miles</th>\n",
       "      <th>found_address</th>\n",
       "      <th>outcome_address</th>\n",
       "    </tr>\n",
       "  </thead>\n",
       "  <tbody>\n",
       "    <tr>\n",
       "      <th>17569</th>\n",
       "      <td>San Diego</td>\n",
       "      <td>2021-01-01</td>\n",
       "      <td>NaN</td>\n",
       "      <td>NaN</td>\n",
       "      <td>NaN</td>\n",
       "      <td>NaN</td>\n",
       "      <td>NaN</td>\n",
       "      <td>0.201946</td>\n",
       "      <td>Talbot Street, San Diego CA 92106</td>\n",
       "      <td>959 Albion Street, San Diego CA 92106</td>\n",
       "    </tr>\n",
       "    <tr>\n",
       "      <th>17570</th>\n",
       "      <td>San Diego</td>\n",
       "      <td>2021-01-02</td>\n",
       "      <td>NaN</td>\n",
       "      <td>NaN</td>\n",
       "      <td>NaN</td>\n",
       "      <td>NaN</td>\n",
       "      <td>NaN</td>\n",
       "      <td>0.000000</td>\n",
       "      <td>550 Los Arbolitos Boulevard, Oceanside CA 92058</td>\n",
       "      <td>550 Los Arbolitos Boulevard APT 4, Oceanside C...</td>\n",
       "    </tr>\n",
       "    <tr>\n",
       "      <th>17571</th>\n",
       "      <td>San Diego</td>\n",
       "      <td>2021-01-03</td>\n",
       "      <td>NaN</td>\n",
       "      <td>NaN</td>\n",
       "      <td>NaN</td>\n",
       "      <td>NaN</td>\n",
       "      <td>NaN</td>\n",
       "      <td>NaN</td>\n",
       "      <td>3370 Moraga Courtyard, San Diego CA 92117</td>\n",
       "      <td>4505 Lacrosse Street, San Diego CA 92117</td>\n",
       "    </tr>\n",
       "    <tr>\n",
       "      <th>17572</th>\n",
       "      <td>San Diego</td>\n",
       "      <td>2021-01-04</td>\n",
       "      <td>NaN</td>\n",
       "      <td>NaN</td>\n",
       "      <td>NaN</td>\n",
       "      <td>NaN</td>\n",
       "      <td>NaN</td>\n",
       "      <td>2963.828729</td>\n",
       "      <td>Corner of Brookline &amp; Marilou Rd, San Diego CA...</td>\n",
       "      <td>1635 48th Street, San Diego CA 92102</td>\n",
       "    </tr>\n",
       "    <tr>\n",
       "      <th>17573</th>\n",
       "      <td>San Diego</td>\n",
       "      <td>2021-01-05</td>\n",
       "      <td>NaN</td>\n",
       "      <td>NaN</td>\n",
       "      <td>NaN</td>\n",
       "      <td>NaN</td>\n",
       "      <td>NaN</td>\n",
       "      <td>1.302394</td>\n",
       "      <td>2240 Morley Street, San Diego CA 92111</td>\n",
       "      <td>2393 Cardinal Drive, San Diego CA 92123</td>\n",
       "    </tr>\n",
       "    <tr>\n",
       "      <th>...</th>\n",
       "      <td>...</td>\n",
       "      <td>...</td>\n",
       "      <td>...</td>\n",
       "      <td>...</td>\n",
       "      <td>...</td>\n",
       "      <td>...</td>\n",
       "      <td>...</td>\n",
       "      <td>...</td>\n",
       "      <td>...</td>\n",
       "      <td>...</td>\n",
       "    </tr>\n",
       "    <tr>\n",
       "      <th>20678</th>\n",
       "      <td>San Diego</td>\n",
       "      <td>2029-07-07</td>\n",
       "      <td>NaN</td>\n",
       "      <td>NaN</td>\n",
       "      <td>NaN</td>\n",
       "      <td>NaN</td>\n",
       "      <td>NaN</td>\n",
       "      <td>0.181440</td>\n",
       "      <td>1113 S Escondido Boulevard, Escondido CA 92025</td>\n",
       "      <td>1118 S Orange Street, Escondido CA 92025</td>\n",
       "    </tr>\n",
       "    <tr>\n",
       "      <th>20679</th>\n",
       "      <td>San Diego</td>\n",
       "      <td>2029-07-08</td>\n",
       "      <td>NaN</td>\n",
       "      <td>NaN</td>\n",
       "      <td>NaN</td>\n",
       "      <td>NaN</td>\n",
       "      <td>NaN</td>\n",
       "      <td>9.157769</td>\n",
       "      <td>709 San Diego Street, Oceanside CA 92058</td>\n",
       "      <td>1615 N Santa Fe Avenue, Vista CA 92084</td>\n",
       "    </tr>\n",
       "    <tr>\n",
       "      <th>20680</th>\n",
       "      <td>San Diego</td>\n",
       "      <td>2029-07-09</td>\n",
       "      <td>NaN</td>\n",
       "      <td>NaN</td>\n",
       "      <td>NaN</td>\n",
       "      <td>NaN</td>\n",
       "      <td>NaN</td>\n",
       "      <td>0.719548</td>\n",
       "      <td>Dove Street, San Diego CA 92103</td>\n",
       "      <td>3734 Curlew Street, San Diego CA 92103</td>\n",
       "    </tr>\n",
       "    <tr>\n",
       "      <th>20681</th>\n",
       "      <td>San Diego</td>\n",
       "      <td>2029-07-10</td>\n",
       "      <td>NaN</td>\n",
       "      <td>NaN</td>\n",
       "      <td>NaN</td>\n",
       "      <td>NaN</td>\n",
       "      <td>NaN</td>\n",
       "      <td>0.566691</td>\n",
       "      <td>Gatty Street, San Diego CA 92154</td>\n",
       "      <td>629 Twining Avenue, San Diego CA 92154</td>\n",
       "    </tr>\n",
       "    <tr>\n",
       "      <th>20682</th>\n",
       "      <td>San Diego</td>\n",
       "      <td>2029-07-11</td>\n",
       "      <td>NaN</td>\n",
       "      <td>NaN</td>\n",
       "      <td>NaN</td>\n",
       "      <td>NaN</td>\n",
       "      <td>NaN</td>\n",
       "      <td>1.044525</td>\n",
       "      <td>45th Street, San Diego CA 92105</td>\n",
       "      <td>2538 Snowdrop Street, San Diego CA 92105</td>\n",
       "    </tr>\n",
       "  </tbody>\n",
       "</table>\n",
       "<p>3114 rows × 10 columns</p>\n",
       "</div>"
      ],
      "text/plain": [
       "      shelter_id intake_date Species  found_lng  found_lat  outcome_lng  \\\n",
       "17569  San Diego  2021-01-01     NaN        NaN        NaN          NaN   \n",
       "17570  San Diego  2021-01-02     NaN        NaN        NaN          NaN   \n",
       "17571  San Diego  2021-01-03     NaN        NaN        NaN          NaN   \n",
       "17572  San Diego  2021-01-04     NaN        NaN        NaN          NaN   \n",
       "17573  San Diego  2021-01-05     NaN        NaN        NaN          NaN   \n",
       "...          ...         ...     ...        ...        ...          ...   \n",
       "20678  San Diego  2029-07-07     NaN        NaN        NaN          NaN   \n",
       "20679  San Diego  2029-07-08     NaN        NaN        NaN          NaN   \n",
       "20680  San Diego  2029-07-09     NaN        NaN        NaN          NaN   \n",
       "20681  San Diego  2029-07-10     NaN        NaN        NaN          NaN   \n",
       "20682  San Diego  2029-07-11     NaN        NaN        NaN          NaN   \n",
       "\n",
       "       outcome_lat  distance_miles  \\\n",
       "17569          NaN        0.201946   \n",
       "17570          NaN        0.000000   \n",
       "17571          NaN             NaN   \n",
       "17572          NaN     2963.828729   \n",
       "17573          NaN        1.302394   \n",
       "...            ...             ...   \n",
       "20678          NaN        0.181440   \n",
       "20679          NaN        9.157769   \n",
       "20680          NaN        0.719548   \n",
       "20681          NaN        0.566691   \n",
       "20682          NaN        1.044525   \n",
       "\n",
       "                                           found_address  \\\n",
       "17569                  Talbot Street, San Diego CA 92106   \n",
       "17570    550 Los Arbolitos Boulevard, Oceanside CA 92058   \n",
       "17571          3370 Moraga Courtyard, San Diego CA 92117   \n",
       "17572  Corner of Brookline & Marilou Rd, San Diego CA...   \n",
       "17573             2240 Morley Street, San Diego CA 92111   \n",
       "...                                                  ...   \n",
       "20678     1113 S Escondido Boulevard, Escondido CA 92025   \n",
       "20679           709 San Diego Street, Oceanside CA 92058   \n",
       "20680                    Dove Street, San Diego CA 92103   \n",
       "20681                   Gatty Street, San Diego CA 92154   \n",
       "20682                    45th Street, San Diego CA 92105   \n",
       "\n",
       "                                         outcome_address  \n",
       "17569              959 Albion Street, San Diego CA 92106  \n",
       "17570  550 Los Arbolitos Boulevard APT 4, Oceanside C...  \n",
       "17571           4505 Lacrosse Street, San Diego CA 92117  \n",
       "17572               1635 48th Street, San Diego CA 92102  \n",
       "17573            2393 Cardinal Drive, San Diego CA 92123  \n",
       "...                                                  ...  \n",
       "20678           1118 S Orange Street, Escondido CA 92025  \n",
       "20679             1615 N Santa Fe Avenue, Vista CA 92084  \n",
       "20680             3734 Curlew Street, San Diego CA 92103  \n",
       "20681             629 Twining Avenue, San Diego CA 92154  \n",
       "20682           2538 Snowdrop Street, San Diego CA 92105  \n",
       "\n",
       "[3114 rows x 10 columns]"
      ]
     },
     "execution_count": 54,
     "metadata": {},
     "output_type": "execute_result"
    }
   ],
   "source": [
    "df[df['Species'].isnull()]"
   ]
  },
  {
   "cell_type": "markdown",
   "metadata": {
    "colab": {
     "base_uri": "https://localhost:8080/"
    },
    "id": "IzOO4PNp7r7-",
    "outputId": "6fb8df4f-3c92-4d33-bf77-6ced8829e8c1"
   },
   "source": [
    "# TODO\n",
    "* From the distance can we predict the species using deep learning or machine learning classification tasks\n",
    "* from the google map api we need to get the found_lat,found_lon ,outcome_lat,outcome_lon\n",
    "* then the missing data can be filled"
   ]
  },
  {
   "cell_type": "code",
   "execution_count": 55,
   "metadata": {},
   "outputs": [
    {
     "name": "stdout",
     "output_type": "stream",
     "text": [
      "      Species  distance_miles  target\n",
      "0         Dog        0.085445     1.0\n",
      "1         Dog        1.245466     1.0\n",
      "2         Dog        0.528722     1.0\n",
      "3         Dog        0.163735     1.0\n",
      "4         Dog        0.170467     1.0\n",
      "...       ...             ...     ...\n",
      "23075     Dog        1.536071     1.0\n",
      "23076     Dog        0.046022     1.0\n",
      "23077     Dog        0.090819     1.0\n",
      "23078     Dog        0.124132     1.0\n",
      "23079     Dog        9.428101     1.0\n",
      "\n",
      "[19966 rows x 3 columns]\n"
     ]
    },
    {
     "data": {
      "text/plain": [
       "\"\\none_hot = pd.get_dummies(train_data['Species'])\\n# Drop column B as it is now encoded\\ndf = train_data.drop('Species',axis = 1)\\n# Join the encoded df\\ntrain_data = train_data.join(one_hot)\\nprint(train_data)\\n\""
      ]
     },
     "execution_count": 55,
     "metadata": {},
     "output_type": "execute_result"
    }
   ],
   "source": [
    "train_data=df[pd.notnull(df[\"Species\"])]\n",
    "#removing the last two columns\n",
    "train_data=train_data[['Species','distance_miles']]\n",
    "\n",
    "ord_enc = OrdinalEncoder()\n",
    "train_data['target']=ord_enc.fit_transform(train_data[[\"Species\"]])\n",
    "print(train_data)\n",
    "\"\"\"\n",
    "one_hot = pd.get_dummies(train_data['Species'])\n",
    "# Drop column B as it is now encoded\n",
    "df = train_data.drop('Species',axis = 1)\n",
    "# Join the encoded df\n",
    "train_data = train_data.join(one_hot)\n",
    "print(train_data)\n",
    "\"\"\""
   ]
  },
  {
   "cell_type": "code",
   "execution_count": 56,
   "metadata": {
    "scrolled": true
   },
   "outputs": [
    {
     "name": "stdout",
     "output_type": "stream",
     "text": [
      "    Species  distance_miles  target\n",
      "716   Horse        3.680986     2.0\n",
      "717   Horse        3.680986     2.0\n"
     ]
    }
   ],
   "source": [
    "print(train_data[train_data['Species']=='Horse'])"
   ]
  },
  {
   "cell_type": "code",
   "execution_count": 84,
   "metadata": {},
   "outputs": [
    {
     "name": "stdout",
     "output_type": "stream",
     "text": [
      "17569       0.201946\n",
      "17570       0.000000\n",
      "17571            NaN\n",
      "17572    2963.828729\n",
      "17573       1.302394\n",
      "            ...     \n",
      "20678       0.181440\n",
      "20679       9.157769\n",
      "20680       0.719548\n",
      "20681       0.566691\n",
      "20682       1.044525\n",
      "Name: distance_miles, Length: 3114, dtype: float64\n"
     ]
    }
   ],
   "source": [
    "test_data=dataframe1[dataframe1['Species'].isnull()]\n",
    "print(test_data['distance_miles'])"
   ]
  },
  {
   "cell_type": "code",
   "execution_count": 68,
   "metadata": {
    "scrolled": true
   },
   "outputs": [
    {
     "name": "stdout",
     "output_type": "stream",
     "text": [
      "total size 59898\n",
      "19966 19966\n"
     ]
    }
   ],
   "source": [
    "print(\"total size\",train_data.size)\n",
    "X=train_data.loc[:,['distance_miles']]\n",
    "Y=train_data.loc[:,['target']]\n",
    "print(X.size,Y.size)\n",
    "X_train, X_test, y_train, y_test = train_test_split(X, Y, random_state=0, train_size = .75)"
   ]
  },
  {
   "cell_type": "code",
   "execution_count": 69,
   "metadata": {},
   "outputs": [
    {
     "name": "stdout",
     "output_type": "stream",
     "text": [
      "14974 4992 14974 4992\n"
     ]
    }
   ],
   "source": [
    "print(X_train.size,X_test.size,y_train.size,y_test.size)"
   ]
  },
  {
   "cell_type": "code",
   "execution_count": 76,
   "metadata": {},
   "outputs": [
    {
     "data": {
      "text/plain": [
       "target\n",
       "1.0       19617\n",
       "0.0         316\n",
       "3.0          27\n",
       "2.0           2\n",
       "5.0           2\n",
       "4.0           1\n",
       "6.0           1\n",
       "dtype: int64"
      ]
     },
     "execution_count": 76,
     "metadata": {},
     "output_type": "execute_result"
    }
   ],
   "source": [
    "Y.value_counts()"
   ]
  },
  {
   "cell_type": "markdown",
   "metadata": {},
   "source": [
    "# simple classifiaction for 7 classes "
   ]
  },
  {
   "cell_type": "code",
   "execution_count": 80,
   "metadata": {},
   "outputs": [],
   "source": [
    "model = tf.keras.models.Sequential([tf.keras.layers.Flatten(), \n",
    "                                    tf.keras.layers.Dense(128, activation=tf.nn.relu), \n",
    "                                    tf.keras.layers.Dense(64, activation=tf.nn.relu), \n",
    "                                    tf.keras.layers.Dense(32, activation=tf.nn.relu), \n",
    "                                    tf.keras.layers.Dense(7, activation=tf.nn.softmax)])"
   ]
  },
  {
   "cell_type": "code",
   "execution_count": 81,
   "metadata": {},
   "outputs": [],
   "source": [
    "model.compile(loss='sparse_categorical_crossentropy',optimizer='adam',metrics=['accuracy'])"
   ]
  },
  {
   "cell_type": "code",
   "execution_count": 82,
   "metadata": {},
   "outputs": [
    {
     "name": "stdout",
     "output_type": "stream",
     "text": [
      "Epoch 1/10\n",
      "468/468 [==============================] - 1s 1ms/step - loss: 0.6172 - accuracy: 0.9649\n",
      "Epoch 2/10\n",
      "468/468 [==============================] - 1s 1ms/step - loss: 0.1906 - accuracy: 0.9829\n",
      "Epoch 3/10\n",
      "468/468 [==============================] - 1s 1ms/step - loss: 0.1135 - accuracy: 0.9828\n",
      "Epoch 4/10\n",
      "468/468 [==============================] - 1s 1ms/step - loss: 0.1084 - accuracy: 0.9829\n",
      "Epoch 5/10\n",
      "468/468 [==============================] - 1s 1ms/step - loss: 0.1181 - accuracy: 0.9826\n",
      "Epoch 6/10\n",
      "468/468 [==============================] - 1s 1ms/step - loss: 0.0990 - accuracy: 0.9829\n",
      "Epoch 7/10\n",
      "468/468 [==============================] - 1s 1ms/step - loss: 0.0962 - accuracy: 0.9828\n",
      "Epoch 8/10\n",
      "468/468 [==============================] - 1s 1ms/step - loss: 0.0987 - accuracy: 0.9828\n",
      "Epoch 9/10\n",
      "468/468 [==============================] - 1s 1ms/step - loss: 0.0962 - accuracy: 0.9828\n",
      "Epoch 10/10\n",
      "468/468 [==============================] - 1s 1ms/step - loss: 0.0931 - accuracy: 0.9828\n"
     ]
    },
    {
     "data": {
      "text/plain": [
       "<keras.callbacks.History at 0x212b15aa160>"
      ]
     },
     "execution_count": 82,
     "metadata": {},
     "output_type": "execute_result"
    }
   ],
   "source": [
    "model.fit(X_train, y_train, epochs=10)"
   ]
  },
  {
   "cell_type": "code",
   "execution_count": 83,
   "metadata": {},
   "outputs": [
    {
     "name": "stdout",
     "output_type": "stream",
     "text": [
      "156/156 [==============================] - 0s 1ms/step - loss: 0.1001 - accuracy: 0.9814\n"
     ]
    },
    {
     "data": {
      "text/plain": [
       "[0.10009966790676117, 0.981370210647583]"
      ]
     },
     "execution_count": 83,
     "metadata": {},
     "output_type": "execute_result"
    }
   ],
   "source": [
    "model.evaluate(X_test, y_test)"
   ]
  },
  {
   "cell_type": "code",
   "execution_count": null,
   "metadata": {},
   "outputs": [],
   "source": []
  },
  {
   "cell_type": "markdown",
   "metadata": {},
   "source": [
    "# api\n",
    "script async defer\n",
    "  src=\"https://maps.googleapis.com/maps/api/js?key=\">\n",
    "</script>"
   ]
  },
  {
   "cell_type": "code",
   "execution_count": null,
   "metadata": {
    "colab": {
     "base_uri": "https://localhost:8080/"
    },
    "id": "yW3uGNSr6CjI",
    "outputId": "9e2db9cd-a899-4920-e0ca-5cc85482d1e7"
   },
   "outputs": [],
   "source": [
    "dict={}\n",
    "for i in pet_types:\n",
    "  if df[df['Species']==i].size:\n",
    "    \n",
    "    print(f\"Total number of {i} missing {df['Species'].value_counts()[i]}\")\n",
    "    dict[i]=df['Species'].value_counts()[i]\n",
    "    per=df['Species'].value_counts()[i]/df.size\n",
    "    print(f\"percentage of{i} {per} \")\n",
    "print(dict)"
   ]
  },
  {
   "cell_type": "markdown",
   "metadata": {
    "id": "NfNJJVj-8A7f"
   },
   "source": [
    "* Observation Dogs are more missing\n",
    "* next cat\n",
    "* next others(bear,panda)"
   ]
  },
  {
   "cell_type": "code",
   "execution_count": null,
   "metadata": {
    "id": "wv-kOzg49cnu"
   },
   "outputs": [],
   "source": [
    "\n"
   ]
  },
  {
   "cell_type": "code",
   "execution_count": null,
   "metadata": {
    "id": "y6yzyV_b91xx"
   },
   "outputs": [],
   "source": []
  },
  {
   "cell_type": "code",
   "execution_count": null,
   "metadata": {},
   "outputs": [],
   "source": []
  }
 ],
 "metadata": {
  "colab": {
   "name": "RTO_Hackathon.ipynb",
   "provenance": []
  },
  "kernelspec": {
   "display_name": "Python 3 (ipykernel)",
   "language": "python",
   "name": "python3"
  },
  "language_info": {
   "codemirror_mode": {
    "name": "ipython",
    "version": 3
   },
   "file_extension": ".py",
   "mimetype": "text/x-python",
   "name": "python",
   "nbconvert_exporter": "python",
   "pygments_lexer": "ipython3",
   "version": "3.9.12"
  }
 },
 "nbformat": 4,
 "nbformat_minor": 1
}
